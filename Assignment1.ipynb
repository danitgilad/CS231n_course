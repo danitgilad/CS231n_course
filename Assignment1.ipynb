{
  "nbformat": 4,
  "nbformat_minor": 0,
  "metadata": {
    "colab": {
      "name": "Assignment1.ipynb",
      "version": "0.3.2",
      "provenance": [],
      "collapsed_sections": []
    },
    "kernelspec": {
      "name": "python3",
      "display_name": "Python 3"
    }
  },
  "cells": [
    {
      "metadata": {
        "id": "2LCohG2CdjnQ",
        "colab_type": "code",
        "colab": {
          "base_uri": "https://localhost:8080/",
          "height": 34
        },
        "outputId": "3c0e61f3-5b12-4d30-9e1d-b08ba56f00c1"
      },
      "cell_type": "code",
      "source": [
        "!pip --version\n"
      ],
      "execution_count": 14,
      "outputs": [
        {
          "output_type": "stream",
          "text": [
            "/bin/bash: $: command not found\n"
          ],
          "name": "stdout"
        }
      ]
    },
    {
      "metadata": {
        "id": "_-j2mFVGg7rS",
        "colab_type": "code",
        "colab": {}
      },
      "cell_type": "code",
      "source": [
        "#conda create -n cs231n python=3.6 anaconda\n",
        "#source activate cs231n\n",
        "#cd assignment1\n",
        "\n",
        "\n",
        "!sudo pip install virtualenv      # This may already be installed\n",
        "!virtualenv -p python3 .env       # Create a virtual environment (python3)\n",
        "# Note: you can also use \"virtualenv .env\" to use your default python (please note we support 3.6)\n",
        "!source .env/bin/activate         # Activate the virtual environment\n",
        "!pip install -r requirements.txt  # Install dependencies\n",
        "# Work on the assignment for a while ...\n",
        "a=1\n",
        "print(a)\n",
        "\n",
        "deactivate                       # Exit the virtual environment\n",
        "  \n",
        "\n",
        "\n",
        "\n",
        "#source deactivate cs231n"
      ],
      "execution_count": 0,
      "outputs": []
    }
  ]
}